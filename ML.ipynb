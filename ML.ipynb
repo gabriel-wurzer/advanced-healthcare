{
  "cells": [
    {
      "cell_type": "code",
      "execution_count": 31,
      "metadata": {
        "trusted": true
      },
      "outputs": [],
      "source": [
        "import numpy as np\n",
        "import pandas as pd\n",
        "from sklearn import tree\n",
        "from sklearn.metrics import accuracy_score\n",
        "import matplotlib.pyplot as plt\n",
        "from IPython.display import display, HTML\n",
        "from sklearn.tree import plot_tree\n",
        "\n",
        "#df = pd.read_csv('https://docs.google.com/spreadsheets/d/1VFOwWcsHo_vOg1WkqTC9au9BnQwNq5uzz4PrDSxgP8E/export?format=csv&gid=0', sep=',')\n",
        "\n",
        "df_columns = [\"t\",\"workday\",\"season\",\"n\"]\n",
        "df_values = [[ 7,  1,  0,  8],\n",
        "       [ 8,  1,  0,  8],\n",
        "       [ 9,  1,  0,  8],\n",
        "       [10,  1,  0,  8],\n",
        "       [11,  1,  0,  8],\n",
        "       [12,  1,  0,  8],\n",
        "       [13,  1,  0,  8],\n",
        "       [ 7,  0,  0, 12],\n",
        "       [ 8,  0,  0, 12],\n",
        "       [ 9,  0,  0, 12],\n",
        "       [10,  0,  0, 12],\n",
        "       [11,  0,  0, 12],\n",
        "       [12,  0,  0, 12],\n",
        "       [13,  0,  0, 12],\n",
        "       [ 7,  1,  1,  8],\n",
        "       [ 8,  1,  1,  8],\n",
        "       [ 9,  1,  1,  8],\n",
        "       [10,  1,  1,  8],\n",
        "       [11,  1,  1,  8],\n",
        "       [12,  1,  1,  8],\n",
        "       [13,  1,  1,  8],\n",
        "       [ 7,  0,  1, 10],\n",
        "       [ 8,  0,  1, 10],\n",
        "       [ 9,  0,  1, 10],\n",
        "       [10,  0,  1, 10],\n",
        "       [11,  0,  1, 10],\n",
        "       [12,  0,  1, 10],\n",
        "       [13,  0,  1, 10]]\n",
        "df = pd.DataFrame(df_values, columns=df_columns)\n",
        "#display(HTML(df.to_html()))"
      ]
    },
    {
      "cell_type": "code",
      "execution_count": 32,
      "metadata": {},
      "outputs": [
        {
          "data": {
            "text/plain": [
              "['t', 'workday', 'season', 'n']"
            ]
          },
          "metadata": {},
          "output_type": "display_data"
        },
        {
          "data": {
            "text/plain": [
              "array([[ 7,  1,  0,  8],\n",
              "       [ 8,  1,  0,  8],\n",
              "       [ 9,  1,  0,  8],\n",
              "       [10,  1,  0,  8],\n",
              "       [11,  1,  0,  8],\n",
              "       [12,  1,  0,  8],\n",
              "       [13,  1,  0,  8],\n",
              "       [ 7,  0,  0, 12],\n",
              "       [ 8,  0,  0, 12],\n",
              "       [ 9,  0,  0, 12],\n",
              "       [10,  0,  0, 12],\n",
              "       [11,  0,  0, 12],\n",
              "       [12,  0,  0, 12],\n",
              "       [13,  0,  0, 12],\n",
              "       [ 7,  1,  1,  8],\n",
              "       [ 8,  1,  1,  8],\n",
              "       [ 9,  1,  1,  8],\n",
              "       [10,  1,  1,  8],\n",
              "       [11,  1,  1,  8],\n",
              "       [12,  1,  1,  8],\n",
              "       [13,  1,  1,  8],\n",
              "       [ 7,  0,  1, 10],\n",
              "       [ 8,  0,  1, 10],\n",
              "       [ 9,  0,  1, 10],\n",
              "       [10,  0,  1, 10],\n",
              "       [11,  0,  1, 10],\n",
              "       [12,  0,  1, 10],\n",
              "       [13,  0,  1, 10]], dtype=int64)"
            ]
          },
          "metadata": {},
          "output_type": "display_data"
        },
        {
          "data": {
            "text/plain": [
              "array([[ 7,  1,  0],\n",
              "       [ 8,  1,  0],\n",
              "       [ 9,  1,  0],\n",
              "       [10,  1,  0],\n",
              "       [11,  1,  0],\n",
              "       [12,  1,  0],\n",
              "       [13,  1,  0],\n",
              "       [ 7,  0,  0],\n",
              "       [ 8,  0,  0],\n",
              "       [ 9,  0,  0],\n",
              "       [10,  0,  0],\n",
              "       [11,  0,  0],\n",
              "       [12,  0,  0],\n",
              "       [13,  0,  0],\n",
              "       [ 7,  1,  1],\n",
              "       [ 8,  1,  1],\n",
              "       [ 9,  1,  1],\n",
              "       [10,  1,  1],\n",
              "       [11,  1,  1],\n",
              "       [12,  1,  1],\n",
              "       [13,  1,  1],\n",
              "       [ 7,  0,  1],\n",
              "       [ 8,  0,  1],\n",
              "       [ 9,  0,  1],\n",
              "       [10,  0,  1],\n",
              "       [11,  0,  1],\n",
              "       [12,  0,  1],\n",
              "       [13,  0,  1]], dtype=int64)"
            ]
          },
          "metadata": {},
          "output_type": "display_data"
        }
      ],
      "source": [
        "feature_names = list(df.columns)\n",
        "display(feature_names)\n",
        "features = df.iloc[:,:-1].values\n",
        "display(df.values)\n",
        "display(features)"
      ]
    },
    {
      "cell_type": "code",
      "execution_count": 33,
      "metadata": {},
      "outputs": [
        {
          "data": {
            "text/plain": [
              "array([ 8,  8,  8,  8,  8,  8,  8, 12, 12, 12, 12, 12, 12, 12,  8,  8,  8,\n",
              "        8,  8,  8,  8, 10, 10, 10, 10, 10, 10, 10], dtype=int64)"
            ]
          },
          "metadata": {},
          "output_type": "display_data"
        }
      ],
      "source": [
        "target_name = \"n\"\n",
        "target = df[target_name].values\n",
        "display(target)"
      ]
    },
    {
      "cell_type": "code",
      "execution_count": 46,
      "metadata": {},
      "outputs": [
        {
          "name": "stdout",
          "output_type": "stream",
          "text": [
            "train_accuracy: 1.0\n",
            "test_accuracy: 1.0\n"
          ]
        },
        {
          "data": {
            "image/png": "[encoded data removed]",
            "text/plain": [
              "<Figure size 864x864 with 1 Axes>"
            ]
          },
          "metadata": {
            "needs_background": "light"
          },
          "output_type": "display_data"
        }
      ],
      "source": [
        "from sklearn.model_selection import train_test_split\n",
        "features_train, features_test, target_train, target_test = train_test_split(\n",
        "    features, target, test_size=0.2\n",
        ")\n",
        "clf = tree.DecisionTreeClassifier(max_depth=10)\n",
        "\n",
        "# Fit the classifier to the training data\n",
        "clf.fit(features_train, target_train)\n",
        "\n",
        "train_accuracy = clf.score(features_train, target_train)\n",
        "print(\"train_accuracy: \" + str(train_accuracy))\n",
        "\n",
        "test_accuracy = clf.score(features_test, target_test)\n",
        "print(\"test_accuracy: \" + str(test_accuracy))\n",
        "\n",
        "plt.figure(figsize=(12, 12))\n",
        "plot_tree(\n",
        "    clf,\n",
        "    feature_names=feature_names,\n",
        "    fontsize=8,\n",
        "    filled=True,\n",
        "    rounded=True,\n",
        "    proportion=True,\n",
        "    class_names=list(map(str, clf.classes_.tolist()))\n",
        ")\n",
        "plt.show()"
      ]
    },
    {
      "cell_type": "code",
      "execution_count": 35,
      "metadata": {},
      "outputs": [
        {
          "name": "stdout",
          "output_type": "stream",
          "text": [
            "[8]\n"
          ]
        }
      ],
      "source": [
        "t = 7\n",
        "workday = 1\n",
        "season = 1\n",
        "print(str(clf.predict([[t, workday, season]])))"
      ]
    },
    {
      "cell_type": "code",
      "execution_count": null,
      "metadata": {},
      "outputs": [],
      "source": []
    }
  ],
  "metadata": {
    "kernelspec": {
      "display_name": "base",
      "language": "python",
      "name": "python3"
    },
    "language_info": {
      "codemirror_mode": {
        "name": "ipython",
        "version": 3
      },
      "file_extension": ".py",
      "mimetype": "text/x-python",
      "name": "python",
      "nbconvert_exporter": "python",
      "pygments_lexer": "ipython3",
      "version": "3.8.3"
    }
  },
  "nbformat": 4,
  "nbformat_minor": 4
}
